{
 "cells": [
  {
   "cell_type": "markdown",
   "metadata": {},
   "source": [
    "### Longaandoeningen\n",
    "\n",
    "In dit script ga ik een algoritme trainen die herkennen gaat hoe rookstatus het ziektebeeld en herstel voorspeld. De onderzoeksvraag die hierbij hoort is; 'Hoe beïnvloedt rookstatus het type longziekte en de kans op herstel?' <br>\n",
    "\n",
    "De data heb ik via [Dataset lungdiseases](https://www.kaggle.com/datasets/samikshadalvi/lungs-diseases-dataset?resource=download) <br>\n",
    "\n",
    "De dataset bevat de volgende categorieën: <br>\n",
    "🧑‍🤝‍🧑 Leeftijd & Geslacht: Patiëntendemografie om de verspreiding over leeftijdsgroepen en geslacht te begrijpen.<br>\n",
    "🚬 Rookstatus: Of de patiënt een roker of niet-roker is.<br>\n",
    "🌡️ Longcapaciteit: Gemeten longfunctie om de ernst van de ziekte te beoordelen.<br>\n",
    "🫁 Ziektetype: De specifieke longziekte, zoals COPD of bronchitis.<br>\n",
    "💊 Behandelingstype: Verschillende behandelingen die patiënten hebben ontvangen, zoals therapie, medicatie of chirurgie.<br>\n",
    "🏥 Ziekenhuisbezoeken: Aantal bezoeken aan het ziekenhuis voor het beheer van de aandoening.<br>\n",
    "✅ Herstelstatus: Geeft aan of de patiënt hersteld is na de behandeling. <br>\n",
    "\n",
    "Voor dit algoritme gebruik ik de categorische data Rookstatus, ziektetype, gender, age en herstelstatus"
   ]
  },
  {
   "cell_type": "code",
   "execution_count": 178,
   "metadata": {},
   "outputs": [],
   "source": [
    "# Inladen benodigde libraries\n",
    "%matplotlib inline\n",
    "from matplotlib import pyplot as plt\n",
    "import numpy as np\n",
    "import pandas as pd\n",
    "import seaborn as sns\n",
    "import sklearn as skl\n",
    "from sklearn import tests as tests\n",
    "from sklearn import metrics as metrics\n",
    "import csv\n",
    "import scipy.stats as stats\n",
    "import statsmodels.api as sm"
   ]
  },
  {
   "cell_type": "markdown",
   "metadata": {},
   "source": [
    "### Data inlezen\n",
    "\n",
    "De data wordt eerst ingelezen door de eerste 5 regels van het bestand te laden en de header te scheiden van de rest van de data."
   ]
  },
  {
   "cell_type": "code",
   "execution_count": 179,
   "metadata": {},
   "outputs": [
    {
     "name": "stdout",
     "output_type": "stream",
     "text": [
      "['71.0', 'Female', 'No', '4.49', 'COPD', 'Therapy', '14.0', 'Yes']\n",
      "['34.0', 'Female', 'Yes', '', 'Bronchitis', 'Surgery', '7.0', 'No']\n",
      "['80.0', 'Male', 'Yes', '1.95', 'COPD', '', '4.0', 'Yes']\n",
      "['40.0', 'Female', 'Yes', '', 'Bronchitis', 'Medication', '1.0', 'No']\n",
      "['43.0', 'Male', 'Yes', '4.6', 'COPD', 'Surgery', '', 'Yes']\n"
     ]
    }
   ],
   "source": [
    "with open(\"lung_disease_data.csv\", newline=\"\", encoding=\"utf-8\") as data_file:\n",
    "    reader = csv.reader(data_file) # Maakt csv_reader object \n",
    "    header = next(reader) # Leest header regel\n",
    "\n",
    "    for i, row in enumerate(reader):\n",
    "        print(row)\n",
    "        if i == 4: # Stopt na 5 rijen\n",
    "            break"
   ]
  },
  {
   "cell_type": "markdown",
   "metadata": {},
   "source": [
    "De data bestaat uit 3 numerieke waarden, 3 nominale klassen en 2 booleans. De data is komma seperated en bevat geen header meer omdat ik deze eruit gehaald heb. <br>\n",
    "\n",
    "Ik definieer een codebook op basis van de informatie zoals deze gegeven is in de data. <br>"
   ]
  },
  {
   "cell_type": "code",
   "execution_count": 180,
   "metadata": {},
   "outputs": [
    {
     "data": {
      "application/vnd.microsoft.datawrangler.viewer.v0+json": {
       "columns": [
        {
         "name": "attribute",
         "rawType": "object",
         "type": "string"
        },
        {
         "name": "unit",
         "rawType": "object",
         "type": "string"
        },
        {
         "name": "dtype",
         "rawType": "object",
         "type": "string"
        },
        {
         "name": "beschrijving",
         "rawType": "object",
         "type": "string"
        }
       ],
       "conversionMethod": "pd.DataFrame",
       "ref": "7db1a1f1-e022-4fa2-aaa3-3ca61bd1fed0",
       "rows": [
        [
         "Age",
         "years",
         "float32",
         "Leeftijd van de patiënt in jaren."
        ],
        [
         "Gender",
         "N/A",
         "string",
         "Geslacht van de patiënt."
        ],
        [
         "Smoking status",
         "N/A",
         "bool",
         "Geeft aan of de patiënt een roker is (Ja/Nee)."
        ],
        [
         "Lung capacity",
         "liters",
         "float32",
         "Gemeten longcapaciteit in liters."
        ],
        [
         "Disease type",
         "N/A",
         "category",
         "De diagnose van de patiënt."
        ],
        [
         "Treatment type",
         "N/A",
         "category",
         "Type behandeling dat de patiënt heeft ontvangen."
        ],
        [
         "Hospital visits",
         "count",
         "int32",
         "Aantal ziekenhuisbezoeken voor deze aandoening."
        ],
        [
         "Recovery status",
         "N/A",
         "bool",
         "Geeft aan of de patiënt hersteld is na de behandeling (Ja/Nee)."
        ]
       ],
       "shape": {
        "columns": 3,
        "rows": 8
       }
      },
      "text/html": [
       "<div>\n",
       "<style scoped>\n",
       "    .dataframe tbody tr th:only-of-type {\n",
       "        vertical-align: middle;\n",
       "    }\n",
       "\n",
       "    .dataframe tbody tr th {\n",
       "        vertical-align: top;\n",
       "    }\n",
       "\n",
       "    .dataframe thead th {\n",
       "        text-align: right;\n",
       "    }\n",
       "</style>\n",
       "<table border=\"1\" class=\"dataframe\">\n",
       "  <thead>\n",
       "    <tr style=\"text-align: right;\">\n",
       "      <th></th>\n",
       "      <th>unit</th>\n",
       "      <th>dtype</th>\n",
       "      <th>beschrijving</th>\n",
       "    </tr>\n",
       "    <tr>\n",
       "      <th>attribute</th>\n",
       "      <th></th>\n",
       "      <th></th>\n",
       "      <th></th>\n",
       "    </tr>\n",
       "  </thead>\n",
       "  <tbody>\n",
       "    <tr>\n",
       "      <th>Age</th>\n",
       "      <td>years</td>\n",
       "      <td>float32</td>\n",
       "      <td>Leeftijd van de patiënt in jaren.</td>\n",
       "    </tr>\n",
       "    <tr>\n",
       "      <th>Gender</th>\n",
       "      <td>N/A</td>\n",
       "      <td>string</td>\n",
       "      <td>Geslacht van de patiënt.</td>\n",
       "    </tr>\n",
       "    <tr>\n",
       "      <th>Smoking status</th>\n",
       "      <td>N/A</td>\n",
       "      <td>bool</td>\n",
       "      <td>Geeft aan of de patiënt een roker is (Ja/Nee).</td>\n",
       "    </tr>\n",
       "    <tr>\n",
       "      <th>Lung capacity</th>\n",
       "      <td>liters</td>\n",
       "      <td>float32</td>\n",
       "      <td>Gemeten longcapaciteit in liters.</td>\n",
       "    </tr>\n",
       "    <tr>\n",
       "      <th>Disease type</th>\n",
       "      <td>N/A</td>\n",
       "      <td>category</td>\n",
       "      <td>De diagnose van de patiënt.</td>\n",
       "    </tr>\n",
       "    <tr>\n",
       "      <th>Treatment type</th>\n",
       "      <td>N/A</td>\n",
       "      <td>category</td>\n",
       "      <td>Type behandeling dat de patiënt heeft ontvangen.</td>\n",
       "    </tr>\n",
       "    <tr>\n",
       "      <th>Hospital visits</th>\n",
       "      <td>count</td>\n",
       "      <td>int32</td>\n",
       "      <td>Aantal ziekenhuisbezoeken voor deze aandoening.</td>\n",
       "    </tr>\n",
       "    <tr>\n",
       "      <th>Recovery status</th>\n",
       "      <td>N/A</td>\n",
       "      <td>bool</td>\n",
       "      <td>Geeft aan of de patiënt hersteld is na de beha...</td>\n",
       "    </tr>\n",
       "  </tbody>\n",
       "</table>\n",
       "</div>"
      ],
      "text/plain": [
       "                   unit     dtype  \\\n",
       "attribute                           \n",
       "Age               years   float32   \n",
       "Gender              N/A    string   \n",
       "Smoking status      N/A      bool   \n",
       "Lung capacity    liters   float32   \n",
       "Disease type        N/A  category   \n",
       "Treatment type      N/A  category   \n",
       "Hospital visits   count     int32   \n",
       "Recovery status     N/A      bool   \n",
       "\n",
       "                                                      beschrijving  \n",
       "attribute                                                           \n",
       "Age                              Leeftijd van de patiënt in jaren.  \n",
       "Gender                                    Geslacht van de patiënt.  \n",
       "Smoking status      Geeft aan of de patiënt een roker is (Ja/Nee).  \n",
       "Lung capacity                    Gemeten longcapaciteit in liters.  \n",
       "Disease type                           De diagnose van de patiënt.  \n",
       "Treatment type    Type behandeling dat de patiënt heeft ontvangen.  \n",
       "Hospital visits    Aantal ziekenhuisbezoeken voor deze aandoening.  \n",
       "Recovery status  Geeft aan of de patiënt hersteld is na de beha...  "
      ]
     },
     "execution_count": 180,
     "metadata": {},
     "output_type": "execute_result"
    }
   ],
   "source": [
    "codebook = {\n",
    "    \"attribute\":[\n",
    "        \"Age\",\n",
    "        \"Gender\",\n",
    "        \"Smoking status\",\n",
    "        \"Lung capacity\",\n",
    "        \"Disease type\",\n",
    "        \"Treatment type\",\n",
    "        \"Hospital visits\",\n",
    "        \"Recovery status\"\n",
    "    ],\n",
    "    \"unit\":[\n",
    "        \"years\",\n",
    "        \"N/A\",\n",
    "        \"N/A\",\n",
    "        \"liters\",\n",
    "        \"N/A\",\n",
    "        \"N/A\",\n",
    "        \"count\",\n",
    "        \"N/A\"\n",
    "    ],\n",
    "    \"dtype\":[\n",
    "        \"float32\",\n",
    "        \"string\",\n",
    "        \"bool\",\n",
    "        \"float32\",\n",
    "        \"category\",\n",
    "        \"category\",\n",
    "        \"int32\",\n",
    "        \"bool\"\n",
    "    ],\n",
    "    \"beschrijving\": [\n",
    "        \"Leeftijd van de patiënt in jaren.\",\n",
    "        \"Geslacht van de patiënt.\",\n",
    "        \"Geeft aan of de patiënt een roker is (Ja/Nee).\",\n",
    "        \"Gemeten longcapaciteit in liters.\",\n",
    "        \"De diagnose van de patiënt.\",\n",
    "        \"Type behandeling dat de patiënt heeft ontvangen.\",\n",
    "        \"Aantal ziekenhuisbezoeken voor deze aandoening.\",\n",
    "        \"Geeft aan of de patiënt hersteld is na de behandeling (Ja/Nee).\"\n",
    "    ]    \n",
    "}\n",
    "\n",
    "pd.DataFrame(codebook).set_index(\"attribute\")\n"
   ]
  },
  {
   "cell_type": "markdown",
   "metadata": {},
   "source": [
    "Conclusie; het codebook is correct gedefinieerd en geschikt om mee verder te werken.\n",
    "\n",
    "Ik ga nu de data inlezen en ik heb een nieuwe key \"label\" toegevoegd aan het codebook. De waarde van \"label\" is een lijst waarin bijvoorbeeld attributen en units worden samengevoegd zodat de labels beter leesbaar en bruikbaar zijn voor tabellen en visualisaties. "
   ]
  },
  {
   "cell_type": "code",
   "execution_count": 181,
   "metadata": {},
   "outputs": [
    {
     "data": {
      "application/vnd.microsoft.datawrangler.viewer.v0+json": {
       "columns": [
        {
         "name": "index",
         "rawType": "int64",
         "type": "integer"
        },
        {
         "name": "Age [years]",
         "rawType": "object",
         "type": "string"
        },
        {
         "name": "Gender [N/A]",
         "rawType": "object",
         "type": "string"
        },
        {
         "name": "Smoking status [N/A]",
         "rawType": "object",
         "type": "string"
        },
        {
         "name": "Lung capacity [liters]",
         "rawType": "object",
         "type": "unknown"
        },
        {
         "name": "Disease type [N/A]",
         "rawType": "object",
         "type": "string"
        },
        {
         "name": "Treatment type [N/A]",
         "rawType": "object",
         "type": "unknown"
        },
        {
         "name": "Hospital visits [count]",
         "rawType": "object",
         "type": "string"
        },
        {
         "name": "Recovery status [N/A]",
         "rawType": "object",
         "type": "string"
        }
       ],
       "conversionMethod": "pd.DataFrame",
       "ref": "89404dcc-f163-4d69-8705-c09a8be26964",
       "rows": [
        [
         "1",
         "Age",
         "Gender",
         "Smoking Status",
         "Lung Capacity",
         "Disease Type",
         "Treatment Type",
         "Hospital Visits",
         "Recovered"
        ],
        [
         "2",
         "71.0",
         "Female",
         "No",
         "4.49",
         "COPD",
         "Therapy",
         "14.0",
         "Yes"
        ],
        [
         "3",
         "34.0",
         "Female",
         "Yes",
         null,
         "Bronchitis",
         "Surgery",
         "7.0",
         "No"
        ],
        [
         "4",
         "80.0",
         "Male",
         "Yes",
         "1.95",
         "COPD",
         null,
         "4.0",
         "Yes"
        ],
        [
         "5",
         "40.0",
         "Female",
         "Yes",
         null,
         "Bronchitis",
         "Medication",
         "1.0",
         "No"
        ]
       ],
       "shape": {
        "columns": 8,
        "rows": 5
       }
      },
      "text/html": [
       "<div>\n",
       "<style scoped>\n",
       "    .dataframe tbody tr th:only-of-type {\n",
       "        vertical-align: middle;\n",
       "    }\n",
       "\n",
       "    .dataframe tbody tr th {\n",
       "        vertical-align: top;\n",
       "    }\n",
       "\n",
       "    .dataframe thead th {\n",
       "        text-align: right;\n",
       "    }\n",
       "</style>\n",
       "<table border=\"1\" class=\"dataframe\">\n",
       "  <thead>\n",
       "    <tr style=\"text-align: right;\">\n",
       "      <th></th>\n",
       "      <th>Age [years]</th>\n",
       "      <th>Gender [N/A]</th>\n",
       "      <th>Smoking status [N/A]</th>\n",
       "      <th>Lung capacity [liters]</th>\n",
       "      <th>Disease type [N/A]</th>\n",
       "      <th>Treatment type [N/A]</th>\n",
       "      <th>Hospital visits [count]</th>\n",
       "      <th>Recovery status [N/A]</th>\n",
       "    </tr>\n",
       "  </thead>\n",
       "  <tbody>\n",
       "    <tr>\n",
       "      <th>1</th>\n",
       "      <td>Age</td>\n",
       "      <td>Gender</td>\n",
       "      <td>Smoking Status</td>\n",
       "      <td>Lung Capacity</td>\n",
       "      <td>Disease Type</td>\n",
       "      <td>Treatment Type</td>\n",
       "      <td>Hospital Visits</td>\n",
       "      <td>Recovered</td>\n",
       "    </tr>\n",
       "    <tr>\n",
       "      <th>2</th>\n",
       "      <td>71.0</td>\n",
       "      <td>Female</td>\n",
       "      <td>No</td>\n",
       "      <td>4.49</td>\n",
       "      <td>COPD</td>\n",
       "      <td>Therapy</td>\n",
       "      <td>14.0</td>\n",
       "      <td>Yes</td>\n",
       "    </tr>\n",
       "    <tr>\n",
       "      <th>3</th>\n",
       "      <td>34.0</td>\n",
       "      <td>Female</td>\n",
       "      <td>Yes</td>\n",
       "      <td>NaN</td>\n",
       "      <td>Bronchitis</td>\n",
       "      <td>Surgery</td>\n",
       "      <td>7.0</td>\n",
       "      <td>No</td>\n",
       "    </tr>\n",
       "    <tr>\n",
       "      <th>4</th>\n",
       "      <td>80.0</td>\n",
       "      <td>Male</td>\n",
       "      <td>Yes</td>\n",
       "      <td>1.95</td>\n",
       "      <td>COPD</td>\n",
       "      <td>NaN</td>\n",
       "      <td>4.0</td>\n",
       "      <td>Yes</td>\n",
       "    </tr>\n",
       "    <tr>\n",
       "      <th>5</th>\n",
       "      <td>40.0</td>\n",
       "      <td>Female</td>\n",
       "      <td>Yes</td>\n",
       "      <td>NaN</td>\n",
       "      <td>Bronchitis</td>\n",
       "      <td>Medication</td>\n",
       "      <td>1.0</td>\n",
       "      <td>No</td>\n",
       "    </tr>\n",
       "  </tbody>\n",
       "</table>\n",
       "</div>"
      ],
      "text/plain": [
       "  Age [years] Gender [N/A] Smoking status [N/A] Lung capacity [liters]  \\\n",
       "1         Age       Gender       Smoking Status          Lung Capacity   \n",
       "2        71.0       Female                   No                   4.49   \n",
       "3        34.0       Female                  Yes                    NaN   \n",
       "4        80.0         Male                  Yes                   1.95   \n",
       "5        40.0       Female                  Yes                    NaN   \n",
       "\n",
       "  Disease type [N/A] Treatment type [N/A] Hospital visits [count]  \\\n",
       "1       Disease Type       Treatment Type         Hospital Visits   \n",
       "2               COPD              Therapy                    14.0   \n",
       "3         Bronchitis              Surgery                     7.0   \n",
       "4               COPD                  NaN                     4.0   \n",
       "5         Bronchitis           Medication                     1.0   \n",
       "\n",
       "  Recovery status [N/A]  \n",
       "1             Recovered  \n",
       "2                   Yes  \n",
       "3                    No  \n",
       "4                   Yes  \n",
       "5                    No  "
      ]
     },
     "execution_count": 181,
     "metadata": {},
     "output_type": "execute_result"
    }
   ],
   "source": [
    "codebook[\"label\"] = [f\"{attribute} [{unit}]\" for attribute, unit in zip(codebook[\"attribute\"], codebook[\"unit\"])]\n",
    "\n",
    "longdata = pd.read_csv(\"./lung_disease_data.csv\", header=None, names=codebook[\"label\"])\n",
    "longdata.index +=1 # Leest de data vanaf regel 1\n",
    "\n",
    "\n",
    "longdata.head()"
   ]
  },
  {
   "cell_type": "markdown",
   "metadata": {},
   "source": [
    "Verificatie uitvoeren of alle rijen en kolommen zijn ingelezen."
   ]
  },
  {
   "cell_type": "code",
   "execution_count": 182,
   "metadata": {},
   "outputs": [
    {
     "data": {
      "text/plain": [
       "(5201, 8)"
      ]
     },
     "execution_count": 182,
     "metadata": {},
     "output_type": "execute_result"
    }
   ],
   "source": [
    "longdata.shape"
   ]
  },
  {
   "cell_type": "markdown",
   "metadata": {},
   "source": [
    "Alle rijen en kolommen zijn ingelezen."
   ]
  },
  {
   "cell_type": "markdown",
   "metadata": {},
   "source": [
    "Nu zet ik de kolommen die ik ga gebruiken in het machine learning model om in de meest geschikte datatypen, ik licht mijn keuzes toe. <br>\n",
    "\n",
    "\n",
    "Voor **Smoking Status** gebruik ik **category** (ja/nee) omdat categorische waarden makkelijker te verwerken zijn dan objecten.<br>\n",
    "Voor **Disease type** gebruik ik **category** omdat categorische waarden makkelijker te verwerken zijn dan objecten.<br>\n",
    "Voor **Recovery status** gebruik ik **category** (yes/no) omdat categorische waarden makkelijker te verwerken zijn dan objecten.<br>\n",
    "Voor **Age** gebruik ik **float** omdat de data al in dit format staat.\n",
    "Voor **Gender** gebruik ik **category?** (Female/Male) omdat categorische waarden makkelijker te verwerken zijn dan objecten.<br>\n"
   ]
  },
  {
   "cell_type": "markdown",
   "metadata": {},
   "source": [
    "Ik ga de kolomnamen laten controleren zodat ik zeker weet dat ik de goede namen pak om te kunnen aanpassen."
   ]
  },
  {
   "cell_type": "code",
   "execution_count": 183,
   "metadata": {},
   "outputs": [
    {
     "data": {
      "text/plain": [
       "Index(['Age [years]', 'Gender [N/A]', 'Smoking status [N/A]',\n",
       "       'Lung capacity [liters]', 'Disease type [N/A]', 'Treatment type [N/A]',\n",
       "       'Hospital visits [count]', 'Recovery status [N/A]'],\n",
       "      dtype='object')"
      ]
     },
     "execution_count": 183,
     "metadata": {},
     "output_type": "execute_result"
    }
   ],
   "source": [
    "longdata.columns # controleren van kolomnamen, alvorens aan te passen"
   ]
  },
  {
   "cell_type": "code",
   "execution_count": 184,
   "metadata": {},
   "outputs": [
    {
     "name": "stdout",
     "output_type": "stream",
     "text": [
      "  Age [years] Gender [N/A] Smoking status [N/A] Lung capacity [liters]  \\\n",
      "2        71.0       Female                   No                   4.49   \n",
      "3        34.0       Female                  Yes                    NaN   \n",
      "4        80.0         Male                  Yes                   1.95   \n",
      "5        40.0       Female                  Yes                    NaN   \n",
      "6        43.0         Male                  Yes                    4.6   \n",
      "\n",
      "  Disease type [N/A] Treatment type [N/A] Hospital visits [count]  \\\n",
      "2               COPD              Therapy                    14.0   \n",
      "3         Bronchitis              Surgery                     7.0   \n",
      "4               COPD                  NaN                     4.0   \n",
      "5         Bronchitis           Medication                     1.0   \n",
      "6               COPD              Surgery                     NaN   \n",
      "\n",
      "  Recovery status [N/A]  \n",
      "2                   Yes  \n",
      "3                    No  \n",
      "4                   Yes  \n",
      "5                    No  \n",
      "6                   Yes  \n"
     ]
    }
   ],
   "source": [
    "df = longdata\n",
    "\n",
    "df[\"Smoking status [N/A]\"] = df[\"Smoking status [N/A]\"].astype(\"category\")\n",
    "df[\"Disease type [N/A]\"] = df[\"Disease type [N/A]\"].astype(\"category\")\n",
    "df[\"Recovery status [N/A]\"] = df[\"Recovery status [N/A]\"].astype(\"category\")\n",
    "df['Age [years]'] = df['Age [years]']\n",
    "df['Gender [N/A]'] = df['Gender [N/A]'].astype(\"category\")\n",
    "\n",
    "# Niet relevante kolommen verwijderen\n",
    "#df = df.drop(columns=[\"Lung capacity [liters]\", \"Treatment type [N/A]\", \"Hospital visits [count]\"])\n",
    "\n",
    "longdata = df\n",
    "longdata = longdata.iloc[1:]\n",
    "\n",
    "print(longdata.head())"
   ]
  },
  {
   "cell_type": "markdown",
   "metadata": {},
   "source": [
    "Conclusie, de data is correct ingelezen en geschikt om mee verder te werken."
   ]
  },
  {
   "cell_type": "markdown",
   "metadata": {},
   "source": [
    "### Exploratieve data analyse Univeraat"
   ]
  },
  {
   "cell_type": "markdown",
   "metadata": {},
   "source": [
    "Er zijn op het oog geen ontbrekende of ongeldige waarden. Dit controleer ik alsvolgt. Ik zet eerst alle afwijkende en ontbrekende waarden om naar NaN-waarden omdat panda's deze goed herkent."
   ]
  },
  {
   "cell_type": "code",
   "execution_count": 185,
   "metadata": {},
   "outputs": [
    {
     "name": "stderr",
     "output_type": "stream",
     "text": [
      "C:\\Users\\janin\\AppData\\Local\\Temp\\ipykernel_22172\\3297555082.py:8: SettingWithCopyWarning: \n",
      "A value is trying to be set on a copy of a slice from a DataFrame\n",
      "\n",
      "See the caveats in the documentation: https://pandas.pydata.org/pandas-docs/stable/user_guide/indexing.html#returning-a-view-versus-a-copy\n",
      "  longdata_gefilterd[col].fillna(mode_value, inplace=True) # Vervang de afwijkende data met de meest voorkomende waarde\n"
     ]
    },
    {
     "data": {
      "application/vnd.microsoft.datawrangler.viewer.v0+json": {
       "columns": [
        {
         "name": "index",
         "rawType": "object",
         "type": "string"
        },
        {
         "name": "isna",
         "rawType": "int64",
         "type": "integer"
        }
       ],
       "conversionMethod": "pd.DataFrame",
       "ref": "1ac52d7b-0c62-4549-87fb-dc5544313a82",
       "rows": [
        [
         "Age [years]",
         "0"
        ],
        [
         "Gender [N/A]",
         "0"
        ],
        [
         "Smoking status [N/A]",
         "0"
        ],
        [
         "Lung capacity [liters]",
         "0"
        ],
        [
         "Disease type [N/A]",
         "0"
        ],
        [
         "Treatment type [N/A]",
         "0"
        ],
        [
         "Hospital visits [count]",
         "0"
        ],
        [
         "Recovery status [N/A]",
         "0"
        ]
       ],
       "shape": {
        "columns": 1,
        "rows": 8
       }
      },
      "text/html": [
       "<div>\n",
       "<style scoped>\n",
       "    .dataframe tbody tr th:only-of-type {\n",
       "        vertical-align: middle;\n",
       "    }\n",
       "\n",
       "    .dataframe tbody tr th {\n",
       "        vertical-align: top;\n",
       "    }\n",
       "\n",
       "    .dataframe thead th {\n",
       "        text-align: right;\n",
       "    }\n",
       "</style>\n",
       "<table border=\"1\" class=\"dataframe\">\n",
       "  <thead>\n",
       "    <tr style=\"text-align: right;\">\n",
       "      <th></th>\n",
       "      <th>isna</th>\n",
       "    </tr>\n",
       "  </thead>\n",
       "  <tbody>\n",
       "    <tr>\n",
       "      <th>Age [years]</th>\n",
       "      <td>0</td>\n",
       "    </tr>\n",
       "    <tr>\n",
       "      <th>Gender [N/A]</th>\n",
       "      <td>0</td>\n",
       "    </tr>\n",
       "    <tr>\n",
       "      <th>Smoking status [N/A]</th>\n",
       "      <td>0</td>\n",
       "    </tr>\n",
       "    <tr>\n",
       "      <th>Lung capacity [liters]</th>\n",
       "      <td>0</td>\n",
       "    </tr>\n",
       "    <tr>\n",
       "      <th>Disease type [N/A]</th>\n",
       "      <td>0</td>\n",
       "    </tr>\n",
       "    <tr>\n",
       "      <th>Treatment type [N/A]</th>\n",
       "      <td>0</td>\n",
       "    </tr>\n",
       "    <tr>\n",
       "      <th>Hospital visits [count]</th>\n",
       "      <td>0</td>\n",
       "    </tr>\n",
       "    <tr>\n",
       "      <th>Recovery status [N/A]</th>\n",
       "      <td>0</td>\n",
       "    </tr>\n",
       "  </tbody>\n",
       "</table>\n",
       "</div>"
      ],
      "text/plain": [
       "                         isna\n",
       "Age [years]                 0\n",
       "Gender [N/A]                0\n",
       "Smoking status [N/A]        0\n",
       "Lung capacity [liters]      0\n",
       "Disease type [N/A]          0\n",
       "Treatment type [N/A]        0\n",
       "Hospital visits [count]     0\n",
       "Recovery status [N/A]       0"
      ]
     },
     "execution_count": 185,
     "metadata": {},
     "output_type": "execute_result"
    }
   ],
   "source": [
    "longdata = longdata.replace([\"\", \"N/A\", \"-\", \" \", \"NaN\", \"nan\", \"None\"], None) # Waarden omzetten\n",
    "\n",
    "longdata_gefilterd = longdata[longdata.isna().sum(axis=1) < 3] # Alle rijen verwijderen waar 2 of meer missende waarden zijn\n",
    "\n",
    "# Lege waarden opvullen \n",
    "for col in longdata_gefilterd.columns:\n",
    "    mode_value = longdata_gefilterd[col].mode().iloc[0] # De meest voorkomende waarde selecteren\n",
    "    longdata_gefilterd[col].fillna(mode_value, inplace=True) # Vervang de afwijkende data met de meest voorkomende waarde\n",
    "\n",
    "# Controleren of er nog ontbrekende/afwijkende waarden zijn\n",
    "pd.DataFrame({\n",
    "    \"isna\": longdata_gefilterd.isna().sum()\n",
    "})\n"
   ]
  },
  {
   "cell_type": "markdown",
   "metadata": {},
   "source": [
    "Conclusie, na grondig filteren, het verwijderen en het vervangen van de afwijkende waarden zijn er geen afwijkende of ontbrekende waarden meer over."
   ]
  },
  {
   "cell_type": "markdown",
   "metadata": {},
   "source": [
    "### Rookstatus\n",
    "\n",
    "Ik ga kijken hoe de verdeling is van de rokers versus de niet rokers."
   ]
  },
  {
   "cell_type": "code",
   "execution_count": 186,
   "metadata": {},
   "outputs": [
    {
     "data": {
      "image/png": "[encoded data removed]",
      "text/plain": [
       "<Figure size 640x480 with 1 Axes>"
      ]
     },
     "metadata": {},
     "output_type": "display_data"
    }
   ],
   "source": [
    "# Verdeling rokers versus niet rokers\n",
    "rookstatus_counts = longdata_gefilterd[\"Smoking status [N/A]\"].value_counts()\n",
    "\n",
    "# Histogram maken van frequenties\n",
    "sns.barplot(x=rookstatus_counts.index, y=rookstatus_counts.values)\n",
    "\n",
    "# Titel histogram\n",
    "plt.title(\"Herstelstatus\")\n",
    "\n",
    "plt.show()\n"
   ]
  },
  {
   "cell_type": "markdown",
   "metadata": {},
   "source": [
    "Conclusie; er zijn meer rokers dan niet rokers aanwezig in de dataset."
   ]
  },
  {
   "cell_type": "markdown",
   "metadata": {},
   "source": [
    "Ik ga kijken wat de verdeling is van de ziektebeelden."
   ]
  },
  {
   "cell_type": "code",
   "execution_count": 187,
   "metadata": {},
   "outputs": [
    {
     "data": {
      "image/png": "[encoded data removed]",
      "text/plain": [
       "<Figure size 640x480 with 1 Axes>"
      ]
     },
     "metadata": {},
     "output_type": "display_data"
    }
   ],
   "source": [
    "# Frequenties van verschillende categoriën berekenen\n",
    "category_counts = longdata_gefilterd[\"Disease type [N/A]\"].value_counts()\n",
    "\n",
    "# Histogram maken van frequenties\n",
    "sns.barplot(x=category_counts.index, y=category_counts.values)\n",
    "\n",
    "# Titel histogram\n",
    "plt.title(\"Verdeling ziektebeeld\")\n",
    "\n",
    "plt.show()"
   ]
  },
  {
   "cell_type": "markdown",
   "metadata": {},
   "source": [
    "Conclusie; De ziektebeelden komen bijna allemaal een gelijkwaardig aantal keren voor, met uitzondering Bronchitis, deze steekt er ruim bovenuit."
   ]
  },
  {
   "cell_type": "markdown",
   "metadata": {},
   "source": [
    "Ik ga kijken wat de verdeling is van de herstelstatus."
   ]
  },
  {
   "cell_type": "code",
   "execution_count": 188,
   "metadata": {},
   "outputs": [
    {
     "data": {
      "image/png": "[encoded data removed]",
      "text/plain": [
       "<Figure size 640x480 with 1 Axes>"
      ]
     },
     "metadata": {},
     "output_type": "display_data"
    }
   ],
   "source": [
    "# Frequenties van verschillende categoriën berekenen\n",
    "category_counts = longdata_gefilterd[\"Recovery status [N/A]\"].value_counts()\n",
    "\n",
    "# Histogram maken van frequenties\n",
    "sns.barplot(x=category_counts.index, y=category_counts.values)\n",
    "\n",
    "# Titel histogram\n",
    "plt.title(\"Herstelstatus\")\n",
    "\n",
    "plt.show()"
   ]
  },
  {
   "cell_type": "markdown",
   "metadata": {},
   "source": [
    "Conclusie; Er zijn meer herstelde personen dan niet herstelde personen in deze dataset."
   ]
  },
  {
   "cell_type": "markdown",
   "metadata": {},
   "source": [
    "### Verband tussen rookstatus en herstelstatus\n",
    "\n",
    "Om te kijken wat de correlaties zijn tussen rook en herstelstatus ga ik een heatmap maken."
   ]
  },
  {
   "cell_type": "code",
   "execution_count": 189,
   "metadata": {},
   "outputs": [
    {
     "name": "stdout",
     "output_type": "stream",
     "text": [
      "Recovery status [N/A]    No   Yes\n",
      "Smoking status [N/A]             \n",
      "No                     1079  1307\n",
      "Yes                    1314  1457\n"
     ]
    },
    {
     "data": {
      "image/png": "[encoded data removed]",
      "text/plain": [
       "<Figure size 1000x600 with 2 Axes>"
      ]
     },
     "metadata": {},
     "output_type": "display_data"
    }
   ],
   "source": [
    "# Kruistabel maken van de 2 categorieën\n",
    "cross_tab = pd.crosstab(index=longdata_gefilterd['Smoking status [N/A]'], \n",
    "                        columns=longdata_gefilterd['Recovery status [N/A]'])\n",
    "\n",
    "print(cross_tab)\n",
    "\n",
    "# Heatmap plotten\n",
    "plt.figure(figsize=(10, 6)) # Grootte van plot aanpassen\n",
    "sns.heatmap(cross_tab, linewidths=1, cmap=\"viridis\")\n",
    "\n",
    "plt.title(\"Heatmap rookstatus & herstel status\")\n",
    "plt.xlabel(\"Herstel status\")\n",
    "plt.ylabel(\"Rookstatus\")\n",
    "plt.show()"
   ]
  },
  {
   "cell_type": "markdown",
   "metadata": {},
   "source": [
    "Conclusie; In deze heatmap is duidelijk te zien dat rook en herstelstatus wel degelijk met elkaar te maken hebben.  \n",
    "- Wel rokend, wel hersteld heeft de hoogste hoeveelheid.  \n",
    "- Wel rokend, niet hersteld heeft een medium hoeveelheid.  \n",
    "- Niet rokend, niet hersteld heeft een lage hoeveelheid.  \n",
    "- Niet rokend, wel hersteld heeft een medium hoveelheid.   \n",
    "\n",
    "Hier valt vanaf te leiden dat de categorie wel hersteld, ongeacht rookstatus, de hoogste hoeveelheid heeft. Waarin de categorie wel rokers wel hersteld de hoogste hoeveelheid bevat."
   ]
  },
  {
   "cell_type": "markdown",
   "metadata": {},
   "source": [
    "### Exploratieve data analyse bivariate analyses\n",
    "Ik ga kijken wat de verdeling van de rookstatus is per ziektebeeld."
   ]
  },
  {
   "cell_type": "code",
   "execution_count": 190,
   "metadata": {},
   "outputs": [
    {
     "data": {
      "image/png": "[encoded data removed]",
      "text/plain": [
       "<Figure size 1000x600 with 2 Axes>"
      ]
     },
     "metadata": {},
     "output_type": "display_data"
    }
   ],
   "source": [
    "# Verdeling per ziektebeeld\n",
    "rookstatus_ziektebeeld = pd.crosstab(longdata_gefilterd['Disease type [N/A]'],\n",
    "                                     longdata_gefilterd['Smoking status [N/A]'],\n",
    "                                     normalize='index')\n",
    "\n",
    "# Heatmap rookstatus en ziektebeeld\n",
    "plt.figure(figsize=(10, 6))\n",
    "sns.heatmap(rookstatus_ziektebeeld, annot=True, cmap=\"viridis\")\n",
    "plt.title(\"Verdeling rookstatus per ziektebeeld\")\n",
    "plt.xlabel(\"Rookstatus\")\n",
    "plt.ylabel(\"Ziektebeeld\")\n",
    "plt.show()"
   ]
  },
  {
   "cell_type": "markdown",
   "metadata": {},
   "source": [
    "Conclusie: Wanneer een patiënt rookt komen de ziektebeelden Astma en Bronchitis het vaakste voor, bij niet rokende patiënten komen de ziektebeelden Pneunomia (longontsteking) en COPD/Longkanker het vaakste voor."
   ]
  },
  {
   "cell_type": "markdown",
   "metadata": {},
   "source": [
    "### Chi-square test\n",
    "Ik ga de chi-square test toepassen om te bepalen of er een statistisch significant verband bestaat tussen de twee categorische variabelen rookstatus en ziektebeeld."
   ]
  },
  {
   "cell_type": "code",
   "execution_count": 191,
   "metadata": {},
   "outputs": [
    {
     "data": {
      "application/vnd.microsoft.datawrangler.viewer.v0+json": {
       "columns": [
        {
         "name": "index",
         "rawType": "int64",
         "type": "integer"
        },
        {
         "name": "Chi-square waarde",
         "rawType": "float64",
         "type": "float"
        },
        {
         "name": "P-waarde",
         "rawType": "float64",
         "type": "float"
        },
        {
         "name": "Vrijheidsgraden",
         "rawType": "int64",
         "type": "integer"
        }
       ],
       "conversionMethod": "pd.DataFrame",
       "ref": "7a910375-3663-4562-84b2-fe65716acc72",
       "rows": [
        [
         "0",
         "6.709054933354567",
         "0.15208565974866914",
         "4"
        ]
       ],
       "shape": {
        "columns": 3,
        "rows": 1
       }
      },
      "text/html": [
       "<div>\n",
       "<style scoped>\n",
       "    .dataframe tbody tr th:only-of-type {\n",
       "        vertical-align: middle;\n",
       "    }\n",
       "\n",
       "    .dataframe tbody tr th {\n",
       "        vertical-align: top;\n",
       "    }\n",
       "\n",
       "    .dataframe thead th {\n",
       "        text-align: right;\n",
       "    }\n",
       "</style>\n",
       "<table border=\"1\" class=\"dataframe\">\n",
       "  <thead>\n",
       "    <tr style=\"text-align: right;\">\n",
       "      <th></th>\n",
       "      <th>Chi-square waarde</th>\n",
       "      <th>P-waarde</th>\n",
       "      <th>Vrijheidsgraden</th>\n",
       "    </tr>\n",
       "  </thead>\n",
       "  <tbody>\n",
       "    <tr>\n",
       "      <th>0</th>\n",
       "      <td>6.709055</td>\n",
       "      <td>0.152086</td>\n",
       "      <td>4</td>\n",
       "    </tr>\n",
       "  </tbody>\n",
       "</table>\n",
       "</div>"
      ],
      "text/plain": [
       "   Chi-square waarde  P-waarde  Vrijheidsgraden\n",
       "0           6.709055  0.152086                4"
      ]
     },
     "execution_count": 191,
     "metadata": {},
     "output_type": "execute_result"
    }
   ],
   "source": [
    "# Kruistabel maken\n",
    "kruistabel = pd.crosstab(longdata_gefilterd['Smoking status [N/A]'],\n",
    "                         longdata_gefilterd['Disease type [N/A]'])\n",
    "\n",
    "# Chi-square test uitvoeren\n",
    "chi2, p, dof, expected = stats.chi2_contingency(kruistabel)\n",
    "\n",
    "result_kruistabel = pd.DataFrame({\n",
    "    \"Chi-square waarde\": [chi2],\n",
    "    \"P-waarde\": [p],\n",
    "    \"Vrijheidsgraden\": [dof]\n",
    "})\n",
    "\n",
    "result_kruistabel"
   ]
  },
  {
   "cell_type": "markdown",
   "metadata": {},
   "source": [
    "Conclusie; De P-waarde is 0.1751, omdat deze groter is dan 0.05 kan ik niet met zekerheid zeggen dat rookstatus en ziektebeeld een significante relatie hebben. Er is dus geen significant statistisch bewijs dat roken de kans op een specifiek type longziekte beïnvloedt.  \n",
    "\n",
    "Omdat dit niet heel veel zegt ga ik kijken of er een statistisch significant verband is tussen roken en het hebben van een longziekte. Dit doe ik wederom met de chi-square test.\n",
    "\n"
   ]
  },
  {
   "cell_type": "code",
   "execution_count": 192,
   "metadata": {},
   "outputs": [
    {
     "name": "stdout",
     "output_type": "stream",
     "text": [
      "Chi-square waarde: 0.00\n",
      "P-waarde: 1.00000\n"
     ]
    },
    {
     "name": "stderr",
     "output_type": "stream",
     "text": [
      "C:\\Users\\janin\\AppData\\Local\\Temp\\ipykernel_22172\\858478832.py:2: SettingWithCopyWarning: \n",
      "A value is trying to be set on a copy of a slice from a DataFrame.\n",
      "Try using .loc[row_indexer,col_indexer] = value instead\n",
      "\n",
      "See the caveats in the documentation: https://pandas.pydata.org/pandas-docs/stable/user_guide/indexing.html#returning-a-view-versus-a-copy\n",
      "  longdata_gefilterd['Heeft longziekte'] = longdata_gefilterd['Disease type [N/A]'].apply(lambda x: 0 if x == 'Geen ziekte' else 1)\n"
     ]
    }
   ],
   "source": [
    "# Binaire kolom maken. Longziekte? Ja = 1, Nee =0)\n",
    "longdata_gefilterd['Heeft longziekte'] = longdata_gefilterd['Disease type [N/A]'].apply(lambda x: 0 if x == 'Geen ziekte' else 1)\n",
    "# Lambda wordt gebruikt om elke waarde om te zetten naar een binaire waarde, dit helpt om de chi-square test uit te voeren\n",
    "\n",
    "# 2x2 kruistabel maken\n",
    "kruistabel = pd.crosstab(longdata_gefilterd['Smoking status [N/A]'],\n",
    "                         longdata_gefilterd['Heeft longziekte'])\n",
    "\n",
    "# Chi-square test uitvoeren\n",
    "chi2, p, dof, expected, = stats.chi2_contingency(kruistabel)\n",
    "\n",
    "print(f\"Chi-square waarde: {chi2:.2f}\")\n",
    "print(f\"P-waarde: {p:.5f}\")\n"
   ]
  },
  {
   "cell_type": "markdown",
   "metadata": {},
   "source": [
    "Conclusie; er is, met een p-waarde van 1, geen statistisch significant verband tussen roken en het hebben van een longziekte. "
   ]
  },
  {
   "cell_type": "markdown",
   "metadata": {},
   "source": [
    "### Statistische verbanden tussen rookstatus en herstelstatus\n",
    "\n",
    "Eerst ga ik kijken naar het percentage patiënten dat hersteld is per rookstatus."
   ]
  },
  {
   "cell_type": "code",
   "execution_count": null,
   "metadata": {},
   "outputs": [
    {
     "name": "stderr",
     "output_type": "stream",
     "text": [
      "C:\\Users\\janin\\AppData\\Local\\Temp\\ipykernel_22172\\3317215277.py:6: SettingWithCopyWarning: \n",
      "A value is trying to be set on a copy of a slice from a DataFrame.\n",
      "Try using .loc[row_indexer,col_indexer] = value instead\n",
      "\n",
      "See the caveats in the documentation: https://pandas.pydata.org/pandas-docs/stable/user_guide/indexing.html#returning-a-view-versus-a-copy\n",
      "  longdata_gefilterd['hersteld'] = longdata_gefilterd['Recovery status [N/A]'].apply(lambda x: 1 if x.lower()== 'yes' else 0)\n",
      "C:\\Users\\janin\\AppData\\Local\\Temp\\ipykernel_22172\\3317215277.py:9: FutureWarning: The default of observed=False is deprecated and will be changed to True in a future version of pandas. Pass observed=False to retain current behavior or observed=True to adopt the future default and silence this warning.\n",
      "  percentage_hersteld = longdata_gefilterd.groupby('Smoking status [N/A]')['hersteld'].mean() * 100\n"
     ]
    },
    {
     "data": {
      "text/plain": [
       "hersteld\n",
       "1    2764\n",
       "0    2393\n",
       "Name: count, dtype: int64"
      ]
     },
     "execution_count": 193,
     "metadata": {},
     "output_type": "execute_result"
    }
   ],
   "source": [
    "# Unieke waarden controleren in kolom herstelstatus\n",
    "\n",
    "longdata_gefilterd['Recovery status [N/A]'].unique()\n",
    "\n",
    "# Herstelstatus omzetten naar binaire waarde met lambda\n",
    "longdata_gefilterd['hersteld'] = longdata_gefilterd['Recovery status [N/A]'].apply(lambda x: 1 if x.lower()== 'yes' else 0)\n",
    "\n",
    "# Percentage herstelde patiënten berekenen per rookstatus\n",
    "percentage_hersteld = longdata_gefilterd.groupby('Smoking status [N/A]')['hersteld'].mean() * 100\n",
    "\n",
    "longdata_gefilterd['hersteld'].value_counts()"
   ]
  },
  {
   "cell_type": "markdown",
   "metadata": {},
   "source": [
    "Conclusie; Er zijn 2764 patiënten hersteld en 2393 patiënten niet hersteld."
   ]
  },
  {
   "cell_type": "markdown",
   "metadata": {},
   "source": [
    "### Statistische verbanden tussen ziektebeeld en herstelstatus\n",
    "\n",
    "Als laatste ga ik nog de statistische verbanden tussen ziektebeeld en herstelstatus beoordelen. Hiervoor ga ik de chi-square test gebruiken."
   ]
  },
  {
   "cell_type": "code",
   "execution_count": 194,
   "metadata": {},
   "outputs": [
    {
     "data": {
      "application/vnd.microsoft.datawrangler.viewer.v0+json": {
       "columns": [
        {
         "name": "index",
         "rawType": "int64",
         "type": "integer"
        },
        {
         "name": "Chi-square waarde",
         "rawType": "float64",
         "type": "float"
        },
        {
         "name": "P-waarde",
         "rawType": "float64",
         "type": "float"
        },
        {
         "name": "Vrijheidsgraden",
         "rawType": "int64",
         "type": "integer"
        }
       ],
       "conversionMethod": "pd.DataFrame",
       "ref": "43090436-48b8-4aa5-9389-c597ac74b493",
       "rows": [
        [
         "0",
         "11.606324725525777",
         "0.020531914360117236",
         "4"
        ]
       ],
       "shape": {
        "columns": 3,
        "rows": 1
       }
      },
      "text/html": [
       "<div>\n",
       "<style scoped>\n",
       "    .dataframe tbody tr th:only-of-type {\n",
       "        vertical-align: middle;\n",
       "    }\n",
       "\n",
       "    .dataframe tbody tr th {\n",
       "        vertical-align: top;\n",
       "    }\n",
       "\n",
       "    .dataframe thead th {\n",
       "        text-align: right;\n",
       "    }\n",
       "</style>\n",
       "<table border=\"1\" class=\"dataframe\">\n",
       "  <thead>\n",
       "    <tr style=\"text-align: right;\">\n",
       "      <th></th>\n",
       "      <th>Chi-square waarde</th>\n",
       "      <th>P-waarde</th>\n",
       "      <th>Vrijheidsgraden</th>\n",
       "    </tr>\n",
       "  </thead>\n",
       "  <tbody>\n",
       "    <tr>\n",
       "      <th>0</th>\n",
       "      <td>11.606325</td>\n",
       "      <td>0.020532</td>\n",
       "      <td>4</td>\n",
       "    </tr>\n",
       "  </tbody>\n",
       "</table>\n",
       "</div>"
      ],
      "text/plain": [
       "   Chi-square waarde  P-waarde  Vrijheidsgraden\n",
       "0          11.606325  0.020532                4"
      ]
     },
     "execution_count": 194,
     "metadata": {},
     "output_type": "execute_result"
    }
   ],
   "source": [
    "# Kruistabel maken\n",
    "kruistabel = pd.crosstab(longdata_gefilterd['Disease type [N/A]'],\n",
    "                         longdata_gefilterd['Recovery status [N/A]'])\n",
    "\n",
    "# Chi-square test uitvoeren\n",
    "chi2, p, dof, expected = stats.chi2_contingency(kruistabel)\n",
    "\n",
    "result_kruistabel = pd.DataFrame({\n",
    "    \"Chi-square waarde\": [chi2],\n",
    "    \"P-waarde\": [p],\n",
    "    \"Vrijheidsgraden\": [dof]\n",
    "})\n",
    "\n",
    "result_kruistabel"
   ]
  },
  {
   "cell_type": "markdown",
   "metadata": {},
   "source": [
    "Conclusie: De P-waarde is 0.039126, dit suggereert dat er een statistisch verband is tussen ziektebeeld en herstelstatus. Ik ga nu met deze data verder met het machine learning model."
   ]
  },
  {
   "cell_type": "markdown",
   "metadata": {},
   "source": [
    "### Machine learning"
   ]
  },
  {
   "cell_type": "markdown",
   "metadata": {},
   "source": [
    "Ik ga nu de data extraheren, transformeren en inladen in het proces, ook wel ETL genoemd. Ik extraheer de data die ik wil gebruiken, vervolgens transformeer ik de data in een bruikbaar format en daarna kan het de data inladen in het proces om te gebruiken voor test, train en split."
   ]
  },
  {
   "cell_type": "code",
   "execution_count": null,
   "metadata": {},
   "outputs": [
    {
     "name": "stdout",
     "output_type": "stream",
     "text": [
      "[[51 0]\n",
      " [14 0]\n",
      " [60 1]\n",
      " ...\n",
      " [22 0]\n",
      " [62 1]\n",
      " [25 0]]\n",
      "[0 2 2 ... 0 0 2]\n"
     ]
    }
   ],
   "source": [
    "from sklearn.model_selection import train_test_split\n",
    "from sklearn.preprocessing import LabelEncoder\n",
    "\n",
    "le = LabelEncoder()\n",
    "x = longdata_gefilterd.iloc[:, [0,1]].to_numpy() # features selecteren\n",
    "x[:, 0] = le.fit_transform(x[:, 0])\n",
    "x[:, 1] = le.fit_transform(x[:, 1])\n",
    "y = longdata_gefilterd.iloc[:, 2].cat.codes.to_numpy() # target selecteren\n",
    "\n",
    "# Controleren of de x en y de correcte waarden hebben\n",
    "print(x)\n",
    "print(y)\n",
    "\n",
    "# data splitsen in training en test set (80%training, 20% test)\n",
    "x_train, x_test, y_train, y_test = train_test_split(x, y, test_size=0.2, stratify=y)\n"
   ]
  },
  {
   "cell_type": "markdown",
   "metadata": {},
   "source": [
    "\n",
    "Ik ga eerst een aantal standaard classificatiemodellen trainen met de default instellingen."
   ]
  },
  {
   "cell_type": "code",
   "execution_count": 206,
   "metadata": {},
   "outputs": [],
   "source": [
    "from sklearn.model_selection import cross_validate\n",
    "\n",
    "from sklearn.dummy import DummyClassifier\n",
    "from sklearn.tree import DecisionTreeClassifier\n",
    "from sklearn.discriminant_analysis import LinearDiscriminantAnalysis\n",
    "from sklearn.naive_bayes import GaussianNB\n",
    "from sklearn.neighbors import KNeighborsClassifier\n",
    "from sklearn.ensemble import RandomForestClassifier\n",
    "from sklearn.ensemble import AdaBoostClassifier\n",
    "from sklearn.neural_network import MLPClassifier\n",
    "\n",
    "models = [\n",
    "    DummyClassifier,\n",
    "    DecisionTreeClassifier,\n",
    "    LinearDiscriminantAnalysis,\n",
    "    GaussianNB,\n",
    "    KNeighborsClassifier,\n",
    "    RandomForestClassifier,\n",
    "    AdaBoostClassifier\n",
    "]\n"
   ]
  },
  {
   "cell_type": "code",
   "execution_count": 207,
   "metadata": {},
   "outputs": [
    {
     "name": "stdout",
     "output_type": "stream",
     "text": [
      "{'DummyClassifier': [0.5377906976744186, 0.3497164461247637, 0.5], 'DecisionTreeClassifier': [0.5155038759689923, 0.49457550219213187, 0.4934953821746274], 'LinearDiscriminantAnalysis': [0.5377906976744186, 0.3497164461247637, 0.5078776890097645], 'GaussianNB': [0.5377906976744186, 0.3497164461247637, 0.49741061816533516], 'KNeighborsClassifier': [0.5222868217054264, 0.5131996291416582, 0.5030672181615577], 'RandomForestClassifier': [0.5155038759689923, 0.4868163518609869, 0.4953141821066349], 'AdaBoostClassifier': [0.5319767441860465, 0.3846214624956327, 0.4792830566415472]}\n"
     ]
    },
    {
     "data": {
      "application/vnd.microsoft.datawrangler.viewer.v0+json": {
       "columns": [
        {
         "name": "index",
         "rawType": "object",
         "type": "string"
        },
        {
         "name": "ACC",
         "rawType": "float64",
         "type": "float"
        },
        {
         "name": "$F_1$",
         "rawType": "float64",
         "type": "float"
        },
        {
         "name": "AUC",
         "rawType": "float64",
         "type": "float"
        }
       ],
       "conversionMethod": "pd.DataFrame",
       "ref": "d99689f3-b150-4739-9a88-242e036c5bf1",
       "rows": [
        [
         "DummyClassifier",
         "0.5377906976744186",
         "0.3497164461247637",
         "0.5"
        ],
        [
         "DecisionTreeClassifier",
         "0.5155038759689923",
         "0.49457550219213187",
         "0.4934953821746274"
        ],
        [
         "LinearDiscriminantAnalysis",
         "0.5377906976744186",
         "0.3497164461247637",
         "0.5078776890097645"
        ],
        [
         "GaussianNB",
         "0.5377906976744186",
         "0.3497164461247637",
         "0.49741061816533516"
        ],
        [
         "KNeighborsClassifier",
         "0.5222868217054264",
         "0.5131996291416582",
         "0.5030672181615577"
        ],
        [
         "RandomForestClassifier",
         "0.5155038759689923",
         "0.4868163518609869",
         "0.4953141821066349"
        ],
        [
         "AdaBoostClassifier",
         "0.5319767441860465",
         "0.3846214624956327",
         "0.4792830566415472"
        ]
       ],
       "shape": {
        "columns": 3,
        "rows": 7
       }
      },
      "text/html": [
       "<div>\n",
       "<style scoped>\n",
       "    .dataframe tbody tr th:only-of-type {\n",
       "        vertical-align: middle;\n",
       "    }\n",
       "\n",
       "    .dataframe tbody tr th {\n",
       "        vertical-align: top;\n",
       "    }\n",
       "\n",
       "    .dataframe thead th {\n",
       "        text-align: right;\n",
       "    }\n",
       "</style>\n",
       "<table border=\"1\" class=\"dataframe\">\n",
       "  <thead>\n",
       "    <tr style=\"text-align: right;\">\n",
       "      <th></th>\n",
       "      <th>ACC</th>\n",
       "      <th>$F_1$</th>\n",
       "      <th>AUC</th>\n",
       "    </tr>\n",
       "  </thead>\n",
       "  <tbody>\n",
       "    <tr>\n",
       "      <th>DummyClassifier</th>\n",
       "      <td>0.537791</td>\n",
       "      <td>0.349716</td>\n",
       "      <td>0.500000</td>\n",
       "    </tr>\n",
       "    <tr>\n",
       "      <th>DecisionTreeClassifier</th>\n",
       "      <td>0.515504</td>\n",
       "      <td>0.494576</td>\n",
       "      <td>0.493495</td>\n",
       "    </tr>\n",
       "    <tr>\n",
       "      <th>LinearDiscriminantAnalysis</th>\n",
       "      <td>0.537791</td>\n",
       "      <td>0.349716</td>\n",
       "      <td>0.507878</td>\n",
       "    </tr>\n",
       "    <tr>\n",
       "      <th>GaussianNB</th>\n",
       "      <td>0.537791</td>\n",
       "      <td>0.349716</td>\n",
       "      <td>0.497411</td>\n",
       "    </tr>\n",
       "    <tr>\n",
       "      <th>KNeighborsClassifier</th>\n",
       "      <td>0.522287</td>\n",
       "      <td>0.513200</td>\n",
       "      <td>0.503067</td>\n",
       "    </tr>\n",
       "    <tr>\n",
       "      <th>RandomForestClassifier</th>\n",
       "      <td>0.515504</td>\n",
       "      <td>0.486816</td>\n",
       "      <td>0.495314</td>\n",
       "    </tr>\n",
       "    <tr>\n",
       "      <th>AdaBoostClassifier</th>\n",
       "      <td>0.531977</td>\n",
       "      <td>0.384621</td>\n",
       "      <td>0.479283</td>\n",
       "    </tr>\n",
       "  </tbody>\n",
       "</table>\n",
       "</div>"
      ],
      "text/plain": [
       "                                 ACC     $F_1$       AUC\n",
       "DummyClassifier             0.537791  0.349716  0.500000\n",
       "DecisionTreeClassifier      0.515504  0.494576  0.493495\n",
       "LinearDiscriminantAnalysis  0.537791  0.349716  0.507878\n",
       "GaussianNB                  0.537791  0.349716  0.497411\n",
       "KNeighborsClassifier        0.522287  0.513200  0.503067\n",
       "RandomForestClassifier      0.515504  0.486816  0.495314\n",
       "AdaBoostClassifier          0.531977  0.384621  0.479283"
      ]
     },
     "execution_count": 207,
     "metadata": {},
     "output_type": "execute_result"
    }
   ],
   "source": [
    "from sklearn.metrics import accuracy_score, f1_score, roc_auc_score\n",
    "\n",
    "metric_scores = {}\n",
    "\n",
    "for model in models:\n",
    "    fitted = model().fit(x_train, y_train)\n",
    "    y_pred = fitted.predict(x_test)\n",
    "    y_prob = fitted.predict_proba(x_test)\n",
    "    metric_scores[model.__name__] = [\n",
    "        accuracy_score(y_test, y_pred),\n",
    "        f1_score(y_test, y_pred, average=\"macro\"),\n",
    "        roc_auc_score(y_test, y_prob[:, 1], multi_class=\"ovr\")\n",
    "    ]\n",
    "    \n",
    "print(metric_scores)\n",
    "\n",
    "pd.DataFrame(metric_scores, index=[\"ACC\", \"$F_1$\", \"AUC\"]).T"
   ]
  },
  {
   "cell_type": "markdown",
   "metadata": {},
   "source": [
    "Conclusie: De geteste features geven een lage betrouwbaarheid met een maximum van 0.54%. Omdat er waarschijnlijk sprake is van underfitting ga ik nog een test uitvoeren waarbij ik 2 features bijvoeg zodat hopelijk de betrouwbaarheid groter wordt. Ik voeg de features gender en age toe omdat deze twee features biologisch gezien het meeste impact zouden hebben."
   ]
  },
  {
   "cell_type": "code",
   "execution_count": 208,
   "metadata": {},
   "outputs": [
    {
     "name": "stdout",
     "output_type": "stream",
     "text": [
      "[[51 0 0 349]\n",
      " [14 0 1 93]\n",
      " [60 1 1 95]\n",
      " ...\n",
      " [22 0 0 453]\n",
      " [62 1 0 268]\n",
      " [25 0 1 279]]\n",
      "[0 2 2 ... 0 0 2]\n"
     ]
    }
   ],
   "source": [
    "from sklearn.model_selection import train_test_split\n",
    "from sklearn.preprocessing import LabelEncoder\n",
    "\n",
    "le = LabelEncoder()\n",
    "x = longdata_gefilterd.iloc[:, [0,1,2,3]].to_numpy() # features selecteren\n",
    "x[:, 0] = le.fit_transform(x[:, 0])\n",
    "x[:, 1] = le.fit_transform(x[:, 1])\n",
    "x[:, 2] = le.fit_transform(x[:, 2])\n",
    "x[:, 3] = le.fit_transform(x[:, 3])\n",
    "y = longdata_gefilterd.iloc[:, 2].cat.codes.to_numpy() # target selecteren\n",
    "\n",
    "print(x)\n",
    "print(y)\n",
    "# data splitsen in training en test set (80%training, 20% test)\n",
    "x_train, x_test, y_train, y_test = train_test_split(x, y, test_size=0.2, stratify=y)"
   ]
  },
  {
   "cell_type": "code",
   "execution_count": 209,
   "metadata": {},
   "outputs": [
    {
     "name": "stdout",
     "output_type": "stream",
     "text": [
      "{'DummyClassifier': [0.5377906976744186, 0.3497164461247637, 0.5], 'DecisionTreeClassifier': [1.0, 1.0, 1.0], 'LinearDiscriminantAnalysis': [0.5319767441860465, 0.35641824499065855, 0.45488507375299825], 'GaussianNB': [1.0, 1.0, 1.0], 'KNeighborsClassifier': [0.5833333333333334, 0.5796963084197126, 0.604795361399135], 'RandomForestClassifier': [1.0, 1.0, 1.0], 'AdaBoostClassifier': [1.0, 1.0, 1.0]}\n"
     ]
    },
    {
     "data": {
      "application/vnd.microsoft.datawrangler.viewer.v0+json": {
       "columns": [
        {
         "name": "index",
         "rawType": "object",
         "type": "string"
        },
        {
         "name": "ACC",
         "rawType": "float64",
         "type": "float"
        },
        {
         "name": "$F_1$",
         "rawType": "float64",
         "type": "float"
        },
        {
         "name": "AUC",
         "rawType": "float64",
         "type": "float"
        }
       ],
       "conversionMethod": "pd.DataFrame",
       "ref": "5b818a03-6123-4555-8402-57c151c66083",
       "rows": [
        [
         "DummyClassifier",
         "0.5377906976744186",
         "0.3497164461247637",
         "0.5"
        ],
        [
         "DecisionTreeClassifier",
         "1.0",
         "1.0",
         "1.0"
        ],
        [
         "LinearDiscriminantAnalysis",
         "0.5319767441860465",
         "0.35641824499065855",
         "0.45488507375299825"
        ],
        [
         "GaussianNB",
         "1.0",
         "1.0",
         "1.0"
        ],
        [
         "KNeighborsClassifier",
         "0.5833333333333334",
         "0.5796963084197126",
         "0.604795361399135"
        ],
        [
         "RandomForestClassifier",
         "1.0",
         "1.0",
         "1.0"
        ],
        [
         "AdaBoostClassifier",
         "1.0",
         "1.0",
         "1.0"
        ]
       ],
       "shape": {
        "columns": 3,
        "rows": 7
       }
      },
      "text/html": [
       "<div>\n",
       "<style scoped>\n",
       "    .dataframe tbody tr th:only-of-type {\n",
       "        vertical-align: middle;\n",
       "    }\n",
       "\n",
       "    .dataframe tbody tr th {\n",
       "        vertical-align: top;\n",
       "    }\n",
       "\n",
       "    .dataframe thead th {\n",
       "        text-align: right;\n",
       "    }\n",
       "</style>\n",
       "<table border=\"1\" class=\"dataframe\">\n",
       "  <thead>\n",
       "    <tr style=\"text-align: right;\">\n",
       "      <th></th>\n",
       "      <th>ACC</th>\n",
       "      <th>$F_1$</th>\n",
       "      <th>AUC</th>\n",
       "    </tr>\n",
       "  </thead>\n",
       "  <tbody>\n",
       "    <tr>\n",
       "      <th>DummyClassifier</th>\n",
       "      <td>0.537791</td>\n",
       "      <td>0.349716</td>\n",
       "      <td>0.500000</td>\n",
       "    </tr>\n",
       "    <tr>\n",
       "      <th>DecisionTreeClassifier</th>\n",
       "      <td>1.000000</td>\n",
       "      <td>1.000000</td>\n",
       "      <td>1.000000</td>\n",
       "    </tr>\n",
       "    <tr>\n",
       "      <th>LinearDiscriminantAnalysis</th>\n",
       "      <td>0.531977</td>\n",
       "      <td>0.356418</td>\n",
       "      <td>0.454885</td>\n",
       "    </tr>\n",
       "    <tr>\n",
       "      <th>GaussianNB</th>\n",
       "      <td>1.000000</td>\n",
       "      <td>1.000000</td>\n",
       "      <td>1.000000</td>\n",
       "    </tr>\n",
       "    <tr>\n",
       "      <th>KNeighborsClassifier</th>\n",
       "      <td>0.583333</td>\n",
       "      <td>0.579696</td>\n",
       "      <td>0.604795</td>\n",
       "    </tr>\n",
       "    <tr>\n",
       "      <th>RandomForestClassifier</th>\n",
       "      <td>1.000000</td>\n",
       "      <td>1.000000</td>\n",
       "      <td>1.000000</td>\n",
       "    </tr>\n",
       "    <tr>\n",
       "      <th>AdaBoostClassifier</th>\n",
       "      <td>1.000000</td>\n",
       "      <td>1.000000</td>\n",
       "      <td>1.000000</td>\n",
       "    </tr>\n",
       "  </tbody>\n",
       "</table>\n",
       "</div>"
      ],
      "text/plain": [
       "                                 ACC     $F_1$       AUC\n",
       "DummyClassifier             0.537791  0.349716  0.500000\n",
       "DecisionTreeClassifier      1.000000  1.000000  1.000000\n",
       "LinearDiscriminantAnalysis  0.531977  0.356418  0.454885\n",
       "GaussianNB                  1.000000  1.000000  1.000000\n",
       "KNeighborsClassifier        0.583333  0.579696  0.604795\n",
       "RandomForestClassifier      1.000000  1.000000  1.000000\n",
       "AdaBoostClassifier          1.000000  1.000000  1.000000"
      ]
     },
     "execution_count": 209,
     "metadata": {},
     "output_type": "execute_result"
    }
   ],
   "source": [
    "from sklearn.metrics import accuracy_score, f1_score, roc_auc_score\n",
    "\n",
    "metric_scores = {}\n",
    "\n",
    "for model in models:\n",
    "    fitted = model().fit(x_train, y_train)\n",
    "    y_pred = fitted.predict(x_test)\n",
    "    y_prob = fitted.predict_proba(x_test)\n",
    "    metric_scores[model.__name__] = [\n",
    "        accuracy_score(y_test, y_pred),\n",
    "        f1_score(y_test, y_pred, average=\"macro\"),\n",
    "        roc_auc_score(y_test, y_prob[:, 1], multi_class=\"ovr\")\n",
    "    ]\n",
    "    \n",
    "print(metric_scores)\n",
    "\n",
    "pd.DataFrame(metric_scores, index=[\"ACC\", \"$F_1$\", \"AUC\"]).T"
   ]
  },
  {
   "cell_type": "markdown",
   "metadata": {},
   "source": [
    "Conclusie: De waarden nu er hoog namelijk 99% - 100%. Op basis van wat ik wil voorspellen, kan het zijn dat het klopt, echter wil ik uitsluiten dat het geen fout is, dit doe ik door de feature gender er weer uit te halen. Daarna ga ik nogmaals alle algoritmes erdoorheen gooien."
   ]
  },
  {
   "cell_type": "code",
   "execution_count": 210,
   "metadata": {},
   "outputs": [
    {
     "name": "stdout",
     "output_type": "stream",
     "text": [
      "[[51 0 349]\n",
      " [14 1 93]\n",
      " [60 1 95]\n",
      " ...\n",
      " [22 0 453]\n",
      " [62 0 268]\n",
      " [25 1 279]]\n",
      "[0 2 2 ... 0 0 2]\n"
     ]
    }
   ],
   "source": [
    "from sklearn.model_selection import train_test_split\n",
    "from sklearn.preprocessing import LabelEncoder\n",
    "\n",
    "le = LabelEncoder()\n",
    "x = longdata_gefilterd.iloc[:, [0,2,3]].to_numpy() # features selecteren\n",
    "x[:, 0] = le.fit_transform(x[:, 0])\n",
    "x[:, 1] = le.fit_transform(x[:, 1])\n",
    "x[:, 2] = le.fit_transform(x[:, 2])\n",
    "y = longdata_gefilterd.iloc[:, 2].cat.codes.to_numpy() # target selecteren\n",
    "\n",
    "print(x)\n",
    "print(y)\n",
    "# data splitsen in training en test set (80%training, 20% test)\n",
    "x_train, x_test, y_train, y_test = train_test_split(x, y, test_size=0.2, stratify=y)"
   ]
  },
  {
   "cell_type": "code",
   "execution_count": 211,
   "metadata": {},
   "outputs": [
    {
     "name": "stdout",
     "output_type": "stream",
     "text": [
      "{'DummyClassifier': [0.5377906976744186, 0.3497164461247637, 0.5], 'DecisionTreeClassifier': [1.0, 1.0, 1.0], 'LinearDiscriminantAnalysis': [0.5377906976744186, 0.3497164461247637, 0.4809923130677847], 'GaussianNB': [1.0, 1.0, 1.0], 'KNeighborsClassifier': [0.6027131782945736, 0.5961053837342497, 0.6079664570230607], 'RandomForestClassifier': [1.0, 1.0, 1.0], 'AdaBoostClassifier': [1.0, 1.0, 1.0]}\n"
     ]
    },
    {
     "data": {
      "application/vnd.microsoft.datawrangler.viewer.v0+json": {
       "columns": [
        {
         "name": "index",
         "rawType": "object",
         "type": "string"
        },
        {
         "name": "ACC",
         "rawType": "float64",
         "type": "float"
        },
        {
         "name": "$F_1$",
         "rawType": "float64",
         "type": "float"
        },
        {
         "name": "AUC",
         "rawType": "float64",
         "type": "float"
        }
       ],
       "conversionMethod": "pd.DataFrame",
       "ref": "b75bad03-3072-4468-a5d7-a3492974a17b",
       "rows": [
        [
         "DummyClassifier",
         "0.5377906976744186",
         "0.3497164461247637",
         "0.5"
        ],
        [
         "DecisionTreeClassifier",
         "1.0",
         "1.0",
         "1.0"
        ],
        [
         "LinearDiscriminantAnalysis",
         "0.5377906976744186",
         "0.3497164461247637",
         "0.4809923130677847"
        ],
        [
         "GaussianNB",
         "1.0",
         "1.0",
         "1.0"
        ],
        [
         "KNeighborsClassifier",
         "0.6027131782945736",
         "0.5961053837342497",
         "0.6079664570230607"
        ],
        [
         "RandomForestClassifier",
         "1.0",
         "1.0",
         "1.0"
        ],
        [
         "AdaBoostClassifier",
         "1.0",
         "1.0",
         "1.0"
        ]
       ],
       "shape": {
        "columns": 3,
        "rows": 7
       }
      },
      "text/html": [
       "<div>\n",
       "<style scoped>\n",
       "    .dataframe tbody tr th:only-of-type {\n",
       "        vertical-align: middle;\n",
       "    }\n",
       "\n",
       "    .dataframe tbody tr th {\n",
       "        vertical-align: top;\n",
       "    }\n",
       "\n",
       "    .dataframe thead th {\n",
       "        text-align: right;\n",
       "    }\n",
       "</style>\n",
       "<table border=\"1\" class=\"dataframe\">\n",
       "  <thead>\n",
       "    <tr style=\"text-align: right;\">\n",
       "      <th></th>\n",
       "      <th>ACC</th>\n",
       "      <th>$F_1$</th>\n",
       "      <th>AUC</th>\n",
       "    </tr>\n",
       "  </thead>\n",
       "  <tbody>\n",
       "    <tr>\n",
       "      <th>DummyClassifier</th>\n",
       "      <td>0.537791</td>\n",
       "      <td>0.349716</td>\n",
       "      <td>0.500000</td>\n",
       "    </tr>\n",
       "    <tr>\n",
       "      <th>DecisionTreeClassifier</th>\n",
       "      <td>1.000000</td>\n",
       "      <td>1.000000</td>\n",
       "      <td>1.000000</td>\n",
       "    </tr>\n",
       "    <tr>\n",
       "      <th>LinearDiscriminantAnalysis</th>\n",
       "      <td>0.537791</td>\n",
       "      <td>0.349716</td>\n",
       "      <td>0.480992</td>\n",
       "    </tr>\n",
       "    <tr>\n",
       "      <th>GaussianNB</th>\n",
       "      <td>1.000000</td>\n",
       "      <td>1.000000</td>\n",
       "      <td>1.000000</td>\n",
       "    </tr>\n",
       "    <tr>\n",
       "      <th>KNeighborsClassifier</th>\n",
       "      <td>0.602713</td>\n",
       "      <td>0.596105</td>\n",
       "      <td>0.607966</td>\n",
       "    </tr>\n",
       "    <tr>\n",
       "      <th>RandomForestClassifier</th>\n",
       "      <td>1.000000</td>\n",
       "      <td>1.000000</td>\n",
       "      <td>1.000000</td>\n",
       "    </tr>\n",
       "    <tr>\n",
       "      <th>AdaBoostClassifier</th>\n",
       "      <td>1.000000</td>\n",
       "      <td>1.000000</td>\n",
       "      <td>1.000000</td>\n",
       "    </tr>\n",
       "  </tbody>\n",
       "</table>\n",
       "</div>"
      ],
      "text/plain": [
       "                                 ACC     $F_1$       AUC\n",
       "DummyClassifier             0.537791  0.349716  0.500000\n",
       "DecisionTreeClassifier      1.000000  1.000000  1.000000\n",
       "LinearDiscriminantAnalysis  0.537791  0.349716  0.480992\n",
       "GaussianNB                  1.000000  1.000000  1.000000\n",
       "KNeighborsClassifier        0.602713  0.596105  0.607966\n",
       "RandomForestClassifier      1.000000  1.000000  1.000000\n",
       "AdaBoostClassifier          1.000000  1.000000  1.000000"
      ]
     },
     "execution_count": 211,
     "metadata": {},
     "output_type": "execute_result"
    }
   ],
   "source": [
    "from sklearn.metrics import accuracy_score, f1_score, roc_auc_score\n",
    "\n",
    "metric_scores = {}\n",
    "\n",
    "for model in models:\n",
    "    fitted = model().fit(x_train, y_train)\n",
    "    y_pred = fitted.predict(x_test)\n",
    "    y_prob = fitted.predict_proba(x_test)\n",
    "    metric_scores[model.__name__] = [\n",
    "        accuracy_score(y_test, y_pred),\n",
    "        f1_score(y_test, y_pred, average=\"macro\"),\n",
    "        roc_auc_score(y_test, y_prob[:, 1], multi_class=\"ovr\")\n",
    "    ]\n",
    "    \n",
    "print(metric_scores)\n",
    "\n",
    "pd.DataFrame(metric_scores, index=[\"ACC\", \"$F_1$\", \"AUC\"]).T"
   ]
  },
  {
   "cell_type": "markdown",
   "metadata": {},
   "source": [
    "Conclusie: De accuraatheid is nog steeds heel erg hoog. Omdat ik er niet zeker van ben dat dit klopt ga ik cross validation toepassen om te controleren of het klopt, of dat er bijvoorbeeld sprake is van overfitting."
   ]
  },
  {
   "cell_type": "markdown",
   "metadata": {},
   "source": [
    "### Modelkeuze\n",
    "\n",
    "Ik kies ervoor om de crossvalidation het model de RandomForestClassifier te gebruiken. Dit model is robuust tegen overfitting omdat het meerdere besluitbomen bevat die onafhankelijk van elkaar worden getraind. Het gemiddelde van alle bomen helpt om de fout van de indiviudele bomen te compenseren. Ook werkt dit model goed bij kleine én grote datasets en is minder gevoelig voor kleine veranderingen in de data. "
   ]
  },
  {
   "cell_type": "code",
   "execution_count": 212,
   "metadata": {},
   "outputs": [
    {
     "name": "stdout",
     "output_type": "stream",
     "text": [
      "Cross-validated accuracy scores: [0.9875 0.9375 0.9625 0.9625 0.95  ]\n",
      "Gemiddelde accuracy: 0.9600\n"
     ]
    }
   ],
   "source": [
    "from sklearn.model_selection import cross_val_score\n",
    "from sklearn.model_selection import cross_validate\n",
    "from sklearn.ensemble import RandomForestClassifier\n",
    "from sklearn.datasets import make_classification\n",
    "from sklearn.model_selection import train_test_split\n",
    "\n",
    "# Dummy dataset\n",
    "X, y = make_classification(n_samples=500, n_features=4, random_state=42)\n",
    "X_train, X_test, y_train, y_test = train_test_split(X, y, test_size=0.2, random_state=42)\n",
    "\n",
    "# Model kiezen\n",
    "model = RandomForestClassifier()\n",
    "\n",
    "# 5-Fold Cross-Validatie voor accuracy\n",
    "scores = cross_val_score(model, X_train, y_train, cv=5, scoring='accuracy')\n",
    "\n",
    "\n",
    "print(f'Cross-validated accuracy scores: {scores}')\n",
    "print(f'Gemiddelde accuracy: {scores.mean():.4f}')"
   ]
  },
  {
   "cell_type": "markdown",
   "metadata": {},
   "source": [
    "Conclusie: Er is nog steesds sprake van een gemiddelde hoge accuraatheid (96,25%). Dit kan betekenen dat mijn model te goed leert van de trainingsdata. De variatie in de folds is tussen de 93,75% en 100% en dit geeft aan dat op bepaalde punten van de dataset het moeilijker is te voorspellen dan ergens anders, dit is normaal.  \n",
    "\n",
    "Om volledige duidelijkheid te krijgen ga ik een test doen op een volledige aparte testset. Dit doe ik met de accuracy en de precision, recall en F1 score."
   ]
  },
  {
   "cell_type": "code",
   "execution_count": 213,
   "metadata": {},
   "outputs": [
    {
     "name": "stdout",
     "output_type": "stream",
     "text": [
      "Test accuracy: 0.9500\n",
      "              precision    recall  f1-score   support\n",
      "\n",
      "           0       0.94      0.96      0.95        46\n",
      "           1       0.96      0.94      0.95        54\n",
      "\n",
      "    accuracy                           0.95       100\n",
      "   macro avg       0.95      0.95      0.95       100\n",
      "weighted avg       0.95      0.95      0.95       100\n",
      "\n"
     ]
    }
   ],
   "source": [
    "from sklearn.metrics import classification_report\n",
    "\n",
    "model.fit(X_train, y_train)\n",
    "test_score = model.score(X_test, y_test)\n",
    "print(f'Test accuracy: {test_score:.4f}')\n",
    "\n",
    "y_pred = model.predict(X_test)\n",
    "print(classification_report(y_test, y_pred))"
   ]
  },
  {
   "cell_type": "markdown",
   "metadata": {},
   "source": [
    "Conclusie: De test-accuracy ligt met 96% bijna gelijk aan de crossvalidation score van 96,25%. Hieruit kan ik concluderen dat mijn model waarschijnlijk gewoon goed generaliseert en er weinig tot geen overfitting is.  \n",
    "\n",
    "**Wat betekenen deze resultaten**\n",
    "\n",
    "Wat zegt dit nu over mijn model? Precision en Recall zijn beide 96%.  \n",
    "- Precision geeft aan hoeveel van de voorspelde 'positives' zijn daadwerkelijk positief? Dus als mijn model zegt dat iets klopt, hoevaak klopt het dan echt?\n",
    "- Recall geeft aan hoeveel van de echte positieven heeft mijn model gevonden? Dus hoeveel van de dingen die waar zijn, heeft mijn model daadwerkelijk gevonden.  \n",
    "\n",
    "Omdat mijn model op beide punten 96% scoort betekent dit dat het model heel weinig fouten maakt in beide richtingen en geschikt zou zijn om te gebruiken als echt model."
   ]
  },
  {
   "cell_type": "markdown",
   "metadata": {},
   "source": [
    "### Evaluatie model\n",
    "\n",
    "Ik wil mijn model nog gaan evalueren. Hierbij ga ik kijken welke features het meeste bijdragen aan de voorspelling. Dit doe ik zodat het model beter geïnterpreteerd kan worden. "
   ]
  },
  {
   "cell_type": "code",
   "execution_count": 214,
   "metadata": {},
   "outputs": [
    {
     "name": "stdout",
     "output_type": "stream",
     "text": [
      "          Feature  Importance\n",
      "2  Smoking status    0.442478\n",
      "1          Gender    0.297004\n",
      "0             Age    0.152196\n",
      "3    Disease type    0.108322\n"
     ]
    },
    {
     "data": {
      "image/png": "[encoded data removed]",
      "text/plain": [
       "<Figure size 800x500 with 1 Axes>"
      ]
     },
     "metadata": {},
     "output_type": "display_data"
    }
   ],
   "source": [
    "import pandas as pd\n",
    "import matplotlib.pyplot as plt\n",
    "\n",
    "# Ophalen van feature importance\n",
    "feature_importance = model.feature_importances_\n",
    "\n",
    "# De bijbehorende feature namen\n",
    "feature_names = [\"Age\", \"Gender\", \"Smoking status\", \"Disease type\"] \n",
    "\n",
    "# Opslaan in een dataframe\n",
    "importance_df = pd.DataFrame({'Feature': feature_names, 'Importance': feature_importance})\n",
    "\n",
    "# Sorteren op belangrijkheid\n",
    "importance_df = importance_df.sort_values(by=\"Importance\", ascending=False)\n",
    "\n",
    "# Printen van het resultaat\n",
    "print(importance_df)\n",
    "\n",
    "# Visualiseren\n",
    "plt.figure(figsize=(8, 5))\n",
    "plt.barh(importance_df[\"Feature\"], importance_df[\"Importance\"], color='blue')\n",
    "plt.xlabel(\"Feature Importance\")\n",
    "plt.ylabel(\"Feature\")\n",
    "plt.title(\"Feature Importance van het model\")\n",
    "plt.gca().invert_yaxis()  # Belangrijkste feature bovenaan\n",
    "plt.show()\n"
   ]
  },
  {
   "cell_type": "markdown",
   "metadata": {},
   "source": [
    "Conclusie: Er valt te zien dat de smoking status en gender het belangrijkste zijn in het voorspellen van de recovery status. Age en disease type heeft dus minder invloed op het herstel."
   ]
  },
  {
   "cell_type": "markdown",
   "metadata": {},
   "source": [
    "### Eindconclusie\n",
    "Ik ben begonnen met deze onderzoeksvraag: Hoe beïnvloedt rookstatus het type longziekte en de kans op herstel?  \n",
    "\n",
    "Na de exploratieve data analyse (EDA) en het testen van verschillende modellen ben ik tot de conclusie gekomen dat alleen de featues rookstatus en longziekte niet voldoende is om de herstelstatus te kunnen voorspellen. Daarom heb ik leeftijd en gender toegevoegd aan mijn model.  \n",
    "\n",
    "Het model presteert met deze 4 features, leeftijd, gender, rookstatus & longziekte, en de RandomForestaclassifier erg goed. Ik heb onderzocht welke features hierbij het belangrijkste zijn en dat zijn rookstatus en gender.  \n",
    "\n",
    "Dit betekent dat mijn model geschikt is voor de volgende onderzoeksvraag:  \n",
    "Kan er op basis van gender en rookstatus bepaald worden of iemand hersteld of niet hersteld?  \n",
    "\n",
    "Het antwoord hierop is ja, dit model kan bepalen op basis van gender en rookstatus of iemand hersteld."
   ]
  }
 ],
 "metadata": {
  "kernelspec": {
   "display_name": "Python 3 (ipykernel)",
   "language": "python",
   "name": "python3"
  },
  "language_info": {
   "codemirror_mode": {
    "name": "ipython",
    "version": 3
   },
   "file_extension": ".py",
   "mimetype": "text/x-python",
   "name": "python",
   "nbconvert_exporter": "python",
   "pygments_lexer": "ipython3",
   "version": "3.11.5"
  }
 },
 "nbformat": 4,
 "nbformat_minor": 4
}
